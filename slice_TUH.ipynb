{
 "cells": [
  {
   "cell_type": "code",
   "execution_count": 1,
   "metadata": {
    "scrolled": true
   },
   "outputs": [
    {
     "name": "stdout",
     "output_type": "stream",
     "text": [
      "563\n",
      "number of training preictal data:  563 , number of training interictal data:  1558\n"
     ]
    }
   ],
   "source": [
    "import numpy as np\n",
    "ntrain_preictal = 274\n",
    "ntrain_interictal = 1647\n",
    "ntest_preictal = 217\n",
    "ntest_interictal = 775\n",
    "nsample_interictal_train = int(np.floor(1647*ntest_preictal/ntest_interictal)*2)\n",
    "sample_interictal_idx = np.random.choice(ntrain_interictal, nsample_interictal_train)\n",
    "window_len_sec = 60\n",
    "def convert_montage(x):\n",
    "    montage_reference = [(0,2),(2,7),(7,12),(12,17),(1,6),(6,11),(11,16),(16,18),(7,8),(8,9),(9,10),(10,11),(0,3),(3,8),(8,13),(13,17),(1,5),(5,10),(10,15),(15,18)]\n",
    "    if x.shape[0] != 19:\n",
    "        raise ValueError\n",
    "    else:\n",
    "        montage = np.zeros((20, x.shape[1]))\n",
    "        for idx, (i,j) in enumerate(montage_reference):\n",
    "            montage[idx,:] = x[i,:] - x[j,:]\n",
    "    return montage\n",
    "def window_eeg(x, window_sec, stride_sec, samp_freq):\n",
    "    nchannel = x.shape[0]\n",
    "    npoint_original = x.shape[1]\n",
    "    data_len_sec = npoint_original/samp_freq\n",
    "    nwindow = np.floor((data_len_sec - window_sec)/stride_sec + 1)\n",
    "    return nwindow\n",
    "#     window_pt = int(samp_freq*window_sec)\n",
    "#     windowed_eeg = np.zeros((nwindow,window_pt,nchannel))\n",
    "#     for i in range(nwindow):\n",
    "#         x_windowed = x[:,int(np.ceil(i*stride_sec*samp_freq)):int(np.ceil((i*stride_sec+window_sec)*samp_freq))]\n",
    "#         #print(x_windowed.shape)\n",
    "#         x_windowed = np.transpose(x_windowed)\n",
    "#         windowed_eeg[i,:,:] = x_windowed\n",
    "#     return windowed_eeg\n",
    "def single_window_eeg(x, window_sec, samp_freq, position):\n",
    "    nchannel = x.shape[0]\n",
    "    npoint_original = x.shape[1]\n",
    "    data_len_sec = npoint_original/samp_freq\n",
    "    window_pt = int(samp_freq*window_sec)\n",
    "    windowed_eeg = np.zeros((window_pt,20))\n",
    "    if data_len_sec>window_sec:\n",
    "        if position == 'end':\n",
    "            x_windowed = x[:,npoint_original-1-window_pt:npoint_original-1]\n",
    "        elif position == 'mid':\n",
    "            midpoint = int(np.floor(npoint_original/2))\n",
    "            halfwindow = int(np.floor(window_pt/2))\n",
    "            #print(midpoint-halfwindow,midpoint+halfwindow+1)\n",
    "            x_windowed = x[:,midpoint-halfwindow:midpoint+halfwindow]\n",
    "        #print(x_windowed.shape)\n",
    "        x_windowed = convert_montage(x_windowed)\n",
    "        x_windowed = np.transpose(x_windowed)\n",
    "        windowed_eeg[:,:] = x_windowed\n",
    "        return True, windowed_eeg\n",
    "    else:\n",
    "        return False, windowed_eeg\n",
    "def window_eeg_preictal(x,window_sec,stride_sec,samp_freq):\n",
    "    nchannel = x.shape[0]\n",
    "    npoint_original = x.shape[1]\n",
    "    data_len_sec = npoint_original/samp_freq\n",
    "    window_pt = int(samp_freq*window_sec)\n",
    "    #windowed_eeg = np.zeros((window_pt,nchannel))\n",
    "    if data_len_sec > window_sec:\n",
    "        nwindow = int(np.floor((data_len_sec - window_sec)/stride_sec + 1))\n",
    "        #print(nwindow, data_len_sec)\n",
    "        windowed_eeg = np.zeros((nwindow,window_pt,20))\n",
    "        for i in range(nwindow):\n",
    "            x_windowed = x[:,int(np.ceil(i*stride_sec*samp_freq)):int(np.ceil((i*stride_sec+window_sec)*samp_freq))]\n",
    "            x_windowed = convert_montage(x_windowed)\n",
    "            x_windowed = np.transpose(x_windowed)\n",
    "            windowed_eeg[i,:,:] = x_windowed\n",
    "        return True, windowed_eeg\n",
    "    else:\n",
    "        return False, []    \n",
    "all_train_x = []\n",
    "all_train_y = []\n",
    "n_valid_train_preictal = 0\n",
    "n_valid_train_interictal = 0\n",
    "\n",
    "# for i in range(ntrain_preictal):\n",
    "#     train_preitctal_file_name = 'Processed_data_10s\\\\train\\\\TUH_preictal_{0}.npy'.format(str(i+1).zfill(3))\n",
    "#     raw = np.load(train_preitctal_file_name)\n",
    "#     valid, windowed = single_window_eeg(raw, window_len_sec, 200, 'end')\n",
    "#     if valid:\n",
    "#         all_train_x.append(windowed)\n",
    "#         all_train_y.append(1)\n",
    "#         n_valid_train_preictal += 1\n",
    "            \n",
    "# for i in sample_interictal_idx:\n",
    "#     train_interictal_file_name = 'Processed_data_60s\\\\train\\\\TUH_interictal_{0}.npy'.format(str(i+1).zfill(3))\n",
    "#     raw = np.load(train_interictal_file_name)\n",
    "#     valid, windowed = single_window_eeg(raw, window_len_sec, 200, 'mid')\n",
    "#     if valid:\n",
    "#         all_train_x.append(windowed)\n",
    "#         all_train_y.append(0)\n",
    "#         n_valid_train_interictal += 1\n",
    "# print('number of training preictal data: ', n_valid_train_preictal, ', number of training interictal data: ', n_valid_train_interictal)\n",
    "    \n",
    "\n",
    "\n",
    "for i in range(ntrain_preictal):\n",
    "    train_preitctal_file_name = 'Processed_data_10s\\\\train\\\\TUH_preictal_{0}.npy'.format(str(i+1).zfill(3))\n",
    "    raw = np.load(train_preitctal_file_name)\n",
    "    valid, windowed = window_eeg_preictal(raw, window_len_sec, window_len_sec, 200)\n",
    "    if valid:\n",
    "        for j in range(max(windowed.shape[0]-5,0),windowed.shape[0]):\n",
    "            all_train_x.append(windowed[j,:,:])\n",
    "            all_train_y.append(1)\n",
    "            n_valid_train_preictal += 1\n",
    "\n",
    "print(n_valid_train_preictal)\n",
    "            \n",
    "nsample_interictal_train = int(np.floor(1647*ntest_preictal/ntest_interictal)*2)\n",
    "sample_interictal_idx = np.random.choice(ntrain_interictal, nsample_interictal_train)\n",
    "\n",
    "for i in range(ntrain_interictal):\n",
    "    train_interictal_file_name = 'Processed_data_10s\\\\train\\\\TUH_interictal_{0}.npy'.format(str(i+1).zfill(3))\n",
    "    raw = np.load(train_interictal_file_name)\n",
    "    valid, windowed = single_window_eeg(raw, window_len_sec, 200, 'mid')\n",
    "    if valid:\n",
    "        all_train_x.append(windowed)\n",
    "        all_train_y.append(0)\n",
    "        n_valid_train_interictal += 1\n",
    "print('number of training preictal data: ', n_valid_train_preictal, ', number of training interictal data: ', n_valid_train_interictal)\n",
    "    \n",
    "# train_interictal_file_name = 'Processed_data\\train\\TUH_interictal_{0}.npy'.format(str(i+1).zfill(3))\n",
    "# test_preitctal_file_name = 'Processed_data\\test\\TUH_preictal_eval_{0}.npy'.format(str(i+1).zfill(3))\n",
    "# test_interictal_file_name = 'Processed_data\\test\\TUH_interictal_eval_{0}.npy'.format(str(i+1).zfill(3))"
   ]
  },
  {
   "cell_type": "code",
   "execution_count": 9,
   "metadata": {},
   "outputs": [
    {
     "data": {
      "text/plain": [
       "(2371, 6000, 20)"
      ]
     },
     "execution_count": 9,
     "metadata": {},
     "output_type": "execute_result"
    }
   ],
   "source": [
    "np.array(all_train_x).shape"
   ]
  },
  {
   "cell_type": "code",
   "execution_count": 10,
   "metadata": {},
   "outputs": [],
   "source": [
    "all_train_x = np.array(all_train_x)\n",
    "import pickle\n",
    "processed_data = {'X':all_train_x, 'Y':all_train_y}\n",
    "pickle.dump(processed_data, open( \"TUH_train_multiple_limited5_30s_window_10s_preictal_montage.p\", \"wb\"), protocol=4)"
   ]
  },
  {
   "cell_type": "code",
   "execution_count": 2,
   "metadata": {},
   "outputs": [
    {
     "name": "stdout",
     "output_type": "stream",
     "text": [
      "number of testing preictal data:  169 , number of testing interictal data:  737\n"
     ]
    }
   ],
   "source": [
    "all_test_x = []\n",
    "all_test_y = []\n",
    "n_valid_test_preictal = 0\n",
    "n_valid_test_interictal = 0\n",
    "\n",
    "\n",
    "for i in range(ntest_preictal):\n",
    "    test_preitctal_file_name = 'Processed_data_10s\\\\eval\\\\TUH_preictal_eval_{0}.npy'.format(str(i+1).zfill(3))\n",
    "    raw = np.load(test_preitctal_file_name)\n",
    "    valid, windowed = single_window_eeg(raw, window_len_sec, 200, 'end')\n",
    "    if valid:\n",
    "        all_test_x.append(windowed)\n",
    "        all_test_y.append(1)\n",
    "        n_valid_test_preictal += 1\n",
    "\n",
    "for i in range(ntest_interictal):\n",
    "    test_interictal_file_name = 'Processed_data_10s\\\\eval\\\\TUH_interictal_eval_{0}.npy'.format(str(i+1).zfill(3))\n",
    "    raw = np.load(test_interictal_file_name)\n",
    "    valid, windowed = single_window_eeg(raw, window_len_sec, 200, 'mid')\n",
    "    if valid:\n",
    "        all_test_x.append(windowed)\n",
    "        all_test_y.append(0)\n",
    "        n_valid_test_interictal += 1\n",
    "        \n",
    "# for i in range(ntest_preictal):\n",
    "#     test_preitctal_file_name = 'Processed_data_10s\\\\eval\\\\TUH_preictal_eval_{0}.npy'.format(str(i+1).zfill(3))\n",
    "#     raw = np.load(test_preitctal_file_name)\n",
    "#     valid, windowed = window_eeg_preictal(raw, window_len_sec, window_len_sec, 200)\n",
    "#     if valid:\n",
    "#         for j in range(windowed.shape[0]):\n",
    "#             all_test_x.append(windowed[j,:,:])\n",
    "#             all_test_y.append(1)\n",
    "#             n_valid_test_preictal += 1\n",
    "\n",
    "# print(n_valid_test_preictal)\n",
    "            \n",
    "# for i in range(ntest_interictal):\n",
    "#     test_interictal_file_name = 'Processed_data_10s\\\\eval\\\\TUH_interictal_eval_{0}.npy'.format(str(i+1).zfill(3))\n",
    "#     raw = np.load(test_interictal_file_name)\n",
    "#     valid, windowed = single_window_eeg(raw, window_len_sec, 200, 'mid')\n",
    "#     if valid:\n",
    "#         all_test_x.append(windowed)\n",
    "#         all_test_y.append(0)\n",
    "#         n_valid_test_interictal += 1\n",
    "        \n",
    "all_test_x = np.array(all_test_x)\n",
    "print('number of testing preictal data: ', n_valid_test_preictal, ', number of testing interictal data: ', n_valid_test_interictal)\n"
   ]
  },
  {
   "cell_type": "code",
   "execution_count": 5,
   "metadata": {},
   "outputs": [],
   "source": [
    "import pickle\n",
    "processed_data = {'X':all_test_x, 'Y':all_test_y}\n",
    "pickle.dump(processed_data, open( \"TUH_test_30s_window_10s_preictal_montage.p\", \"wb\"), protocol=4)"
   ]
  },
  {
   "cell_type": "code",
   "execution_count": 12,
   "metadata": {},
   "outputs": [],
   "source": [
    "import numpy as np\n",
    "import pickle\n",
    "test_data = pickle.load(open(\"TUH_train_multiple_30s_window_10s_preictal_montage.p\", \"rb\" ))\n",
    "seed = 7\n",
    "np.random.seed(seed)\n",
    "X_test = test_data['X']\n",
    "Y_test = test_data['Y']"
   ]
  },
  {
   "cell_type": "code",
   "execution_count": 13,
   "metadata": {},
   "outputs": [
    {
     "name": "stdout",
     "output_type": "stream",
     "text": [
      "(3358, 6000, 20) 3358\n"
     ]
    }
   ],
   "source": [
    "print(X_test.shape, len(Y_test))"
   ]
  },
  {
   "cell_type": "code",
   "execution_count": 16,
   "metadata": {},
   "outputs": [
    {
     "data": {
      "text/plain": [
       "(6000, 20)"
      ]
     },
     "execution_count": 16,
     "metadata": {},
     "output_type": "execute_result"
    }
   ],
   "source": [
    "X_test[300,:,:].shape"
   ]
  },
  {
   "cell_type": "code",
   "execution_count": 15,
   "metadata": {},
   "outputs": [
    {
     "data": {
      "text/plain": [
       "array([[ 57.54115815,  17.86567256,   3.22090462, ...,  46.18259042,\n",
       "        -13.96029674,  -4.45952443],\n",
       "       [ 64.4660432 ,  16.03967081,   0.63338578, ...,  27.56865711,\n",
       "          0.08083024,  -1.1880225 ],\n",
       "       [ 44.64093162,  15.79788576,   1.99213829, ...,  30.46642213,\n",
       "          2.55991552,  -2.25119333],\n",
       "       ..., \n",
       "       [  8.97556633, -13.89729529,  -3.36985025, ...,   1.92073551,\n",
       "         -0.45862479,   1.40794981],\n",
       "       [  5.81334073, -11.72865106,  -3.13626291, ...,   7.66389179,\n",
       "         -0.43773885,   0.94450827],\n",
       "       [ -4.09532703,  -5.51489496,  -3.63884208, ...,   1.66065543,\n",
       "          2.90978657,   3.30354866]])"
      ]
     },
     "execution_count": 15,
     "metadata": {},
     "output_type": "execute_result"
    }
   ],
   "source": [
    "X_test[500,:,:]"
   ]
  },
  {
   "cell_type": "code",
   "execution_count": 3,
   "metadata": {},
   "outputs": [
    {
     "data": {
      "text/plain": [
       "[4]"
      ]
     },
     "execution_count": 3,
     "metadata": {},
     "output_type": "execute_result"
    }
   ],
   "source": [
    "a = [i for i in range(5)]\n",
    "a[len(a)-1:len(a)]"
   ]
  },
  {
   "cell_type": "code",
   "execution_count": null,
   "metadata": {},
   "outputs": [],
   "source": []
  }
 ],
 "metadata": {
  "kernelspec": {
   "display_name": "Python 3",
   "language": "python",
   "name": "python3"
  },
  "language_info": {
   "codemirror_mode": {
    "name": "ipython",
    "version": 3
   },
   "file_extension": ".py",
   "mimetype": "text/x-python",
   "name": "python",
   "nbconvert_exporter": "python",
   "pygments_lexer": "ipython3",
   "version": "3.5.4"
  }
 },
 "nbformat": 4,
 "nbformat_minor": 2
}
