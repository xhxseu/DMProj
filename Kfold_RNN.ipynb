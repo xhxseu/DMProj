{
 "cells": [
  {
   "cell_type": "code",
   "execution_count": 1,
   "metadata": {},
   "outputs": [
    {
     "name": "stderr",
     "output_type": "stream",
     "text": [
      "Using TensorFlow backend.\n"
     ]
    },
    {
     "name": "stdout",
     "output_type": "stream",
     "text": [
      "12000\n"
     ]
    }
   ],
   "source": [
    "from keras.layers import Input\n",
    "from keras.layers import Conv1D\n",
    "from keras.layers import concatenate\n",
    "from keras.layers import GRU\n",
    "from keras.layers import Dense\n",
    "from keras.models import Model\n",
    "from keras.layers import MaxPooling1D\n",
    "from keras.layers import Dropout\n",
    "from keras.wrappers.scikit_learn import KerasClassifier\n",
    "from sklearn.utils import shuffle\n",
    "from keras.utils import np_utils\n",
    "from sklearn.model_selection import cross_val_score\n",
    "from sklearn.model_selection import KFold\n",
    "from sklearn.preprocessing import LabelEncoder\n",
    "from sklearn.pipeline import Pipeline\n",
    "import numpy as np\n",
    "import pickle\n",
    "import scipy.io as sio\n",
    "from scipy.signal import resample\n",
    "import numpy as np\n",
    "from numpy.random import choice\n",
    "def window_eeg(x, window_sec, stride_sec, data_len_sec, samp_freq):\n",
    "    nchannel = x.shape[0]\n",
    "    npoint_original = x.shape[1]\n",
    "    nwindow = int((data_len_sec - window_sec)/stride_sec + 1)\n",
    "    #print(nwindow)\n",
    "    window_pt = int(samp_freq*window_sec)\n",
    "    windowed_eeg = np.zeros((nwindow,window_pt,nchannel))\n",
    "    for i in range(nwindow):\n",
    "        x_windowed = x[:,int(np.ceil(i*stride_sec*samp_freq)):int(np.ceil((i*stride_sec+window_sec)*samp_freq))]\n",
    "        #print(x_windowed.shape)\n",
    "        x_windowed = np.transpose(x_windowed)\n",
    "        windowed_eeg[i,:,:] = x_windowed\n",
    "    return windowed_eeg\n",
    "def down_sample(x, samp_freq, target_freq):\n",
    "    nchannel = x.shape[0]\n",
    "    original_len = x.shape[1]\n",
    "    target_len = int(original_len*target_freq/samp_freq)\n",
    "    target_x = np.zeros((nchannel,target_len))\n",
    "    for i in range(nchannel):\n",
    "        target_x[i,:] = resample(x[i,:], target_len)\n",
    "    return target_x\n",
    "window = 60\n",
    "stride = window\n",
    "target_freq = 200\n",
    "data_len_sec = 600\n",
    "nwindow = int((data_len_sec - window)/stride + 1)\n",
    "\n",
    "samp_freq = 200\n",
    "window = 60\n",
    "nchannel = 16\n",
    "data_len = int(samp_freq*window)\n",
    "print(data_len)\n",
    "#data_len = 15000\n",
    "input_eeg_raw = Input(shape=(data_len, nchannel))"
   ]
  },
  {
   "cell_type": "code",
   "execution_count": 2,
   "metadata": {},
   "outputs": [],
   "source": [
    "def AES_test_train_split_left1out(subject, total_preictal, total_interictal, train_preictal, nth):\n",
    "    window = 60\n",
    "    stride = window\n",
    "    target_freq = 200\n",
    "    data_len_sec = 600\n",
    "    nwindow = int((data_len_sec - window)/stride + 1)\n",
    "    \n",
    "    npreictal = total_preictal\n",
    "    ninterictal = total_interictal\n",
    "    preictal_idx = [i for i in range(npreictal)]\n",
    "    interictal_idx = [i for i in range(ninterictal)]\n",
    "    n_preictal_train = train_preictal\n",
    "    n_interictal_train = int(n_preictal_train*2)\n",
    "    train_preictal_idx = [i for i in range(npreictal) if i != nth]\n",
    "    train_preictal_mat_idx = []\n",
    "    for i in train_preictal_idx:\n",
    "        for j in np.arange(i*6,i*6+6):\n",
    "            train_preictal_mat_idx.append(j)\n",
    "    train_interictal_idx = choice(interictal_idx, n_interictal_train, replace = False)\n",
    "    train_interictal_mat_idx = []\n",
    "    for i in train_interictal_idx:\n",
    "        for j in np.arange(i*6,i*6+6):\n",
    "            train_interictal_mat_idx.append(j)\n",
    "    test_preictal_idx = [nth]\n",
    "    test_interictal_idx = np.setdiff1d(interictal_idx, train_interictal_idx)\n",
    "    test_interictal_idx = choice(test_interictal_idx, int((npreictal-n_preictal_train)*2), replace = False)\n",
    "    test_preictal_mat_idx = []\n",
    "    for i in test_preictal_idx:\n",
    "        for j in np.arange(i*6,i*6+6):\n",
    "            test_preictal_mat_idx.append(j)\n",
    "    test_interictal_mat_idx = []\n",
    "    for i in test_interictal_idx:\n",
    "        for j in np.arange(i*6,i*6+6):\n",
    "            test_interictal_mat_idx.append(j)   \n",
    "    X_train = []\n",
    "    Y_train = []\n",
    "    for i in train_interictal_mat_idx:\n",
    "        filename = '{0}\\\\{1}_interictal_segment_{2}.mat'.format(subject, subject, str(i+1).zfill(4))\n",
    "        file = sio.loadmat(filename)\n",
    "        key = 'interictal_segment_{0}'.format(str(i+1)) \n",
    "        x = file[key]['data'][0,0]\n",
    "        data_len_sec = file[key]['data_length_sec'][0,0][0,0]\n",
    "        samp_freq = file[key]['sampling_frequency'][0,0][0,0]\n",
    "        x_down = down_sample(x, samp_freq, target_freq)\n",
    "        x_windowed = window_eeg(x_down, window, stride, data_len_sec, target_freq)\n",
    "        for j in range(x_windowed.shape[0]):\n",
    "            X_train.append(x_windowed[j,:,:])\n",
    "            Y_train.append(0)\n",
    "    for i in train_preictal_mat_idx:\n",
    "        filename = '{0}\\\\{1}_preictal_segment_{2}.mat'.format(subject, subject, str(i+1).zfill(4))\n",
    "        file = sio.loadmat(filename)\n",
    "        key = 'preictal_segment_{0}'.format(str(i+1)) \n",
    "        x = file[key]['data'][0,0]\n",
    "        data_len_sec = file[key]['data_length_sec'][0,0][0,0]\n",
    "        samp_freq = file[key]['sampling_frequency'][0,0][0,0]\n",
    "        x_down = down_sample(x, samp_freq, target_freq)\n",
    "        x_windowed = window_eeg(x_down, window, stride, data_len_sec, target_freq)\n",
    "        for j in range(x_windowed.shape[0]):\n",
    "            X_train.append(x_windowed[j,:,:])\n",
    "            Y_train.append(1)\n",
    "    X_test = []\n",
    "    Y_test = []\n",
    "    for i in test_interictal_mat_idx:\n",
    "        filename = '{0}\\\\{1}_interictal_segment_{2}.mat'.format(subject, subject, str(i+1).zfill(4))\n",
    "        file = sio.loadmat(filename)\n",
    "        key = 'interictal_segment_{0}'.format(str(i+1)) \n",
    "        x = file[key]['data'][0,0]\n",
    "        data_len_sec = file[key]['data_length_sec'][0,0][0,0]\n",
    "        samp_freq = file[key]['sampling_frequency'][0,0][0,0]\n",
    "        x_down = down_sample(x, samp_freq, target_freq)\n",
    "        x_windowed = window_eeg(x_down, window, stride, data_len_sec, target_freq)\n",
    "        for j in range(x_windowed.shape[0]):\n",
    "            X_test.append(x_windowed[j,:,:])\n",
    "            Y_test.append(0)\n",
    "    for i in test_preictal_mat_idx:\n",
    "        filename = '{0}\\\\{1}_preictal_segment_{2}.mat'.format(subject, subject, str(i+1).zfill(4))\n",
    "        file = sio.loadmat(filename)\n",
    "        key = 'preictal_segment_{0}'.format(str(i+1)) \n",
    "        x = file[key]['data'][0,0]\n",
    "        data_len_sec = file[key]['data_length_sec'][0,0][0,0]\n",
    "        samp_freq = file[key]['sampling_frequency'][0,0][0,0]\n",
    "        x_down = down_sample(x, samp_freq, target_freq)\n",
    "        x_windowed = window_eeg(x_down, window, stride, data_len_sec, target_freq)\n",
    "        for j in range(x_windowed.shape[0]):\n",
    "            X_test.append(x_windowed[j,:,:])\n",
    "            Y_test.append(1)\n",
    "    X_train = np.array(X_train)\n",
    "    X_test = np.array(X_test)\n",
    "    print(train_preictal_idx, train_interictal_idx, test_preictal_idx, test_interictal_idx)\n",
    "    processed_data = {'X_train':X_train, 'Y_train':Y_train, 'X_test': X_test, 'Y_test': Y_test}\n",
    "    return processed_data"
   ]
  },
  {
   "cell_type": "code",
   "execution_count": 6,
   "metadata": {},
   "outputs": [],
   "source": [
    "def start_chrononet():\n",
    "    act_func = 'relu'\n",
    "    input_eeg = Dropout(0)(input_eeg_raw)\n",
    "    conv11 = Conv1D(filters = 32, strides = 2, kernel_size = 2, padding = 'same', activation = act_func)(input_eeg)\n",
    "    conv12 = Conv1D(filters = 32, strides = 2, kernel_size = 4, padding = 'same', activation = act_func)(input_eeg)\n",
    "    conv13 = Conv1D(filters = 32, strides = 2, kernel_size = 8, padding = 'same', activation = act_func)(input_eeg)\n",
    "    #print(conv11.shape,conv12.shape,conv13.shape)\n",
    "    conv1_concate = concatenate([conv11, conv12, conv13], axis = 2)\n",
    "    conv1_concate = Dropout(0)(conv1_concate)\n",
    "    #print(conv1_concate.shape)\n",
    "    conv21 = Conv1D(filters = 32, strides = 2, kernel_size = 2, padding = 'same', activation = act_func)(conv1_concate)\n",
    "    conv22 = Conv1D(filters = 32, strides = 2, kernel_size = 4, padding = 'same', activation = act_func)(conv1_concate)\n",
    "    conv23 = Conv1D(filters = 32, strides = 2, kernel_size = 8, padding = 'same', activation = act_func)(conv1_concate)\n",
    "    conv2_concate = concatenate([conv21, conv22, conv23], axis = 2)\n",
    "    conv2_concate = Dropout(0)(conv2_concate)\n",
    "    print(conv2_concate.shape)\n",
    "    conv31 = Conv1D(filters = 32, strides = 2, kernel_size = 2, padding = 'same', activation = act_func)(conv2_concate)\n",
    "    conv32 = Conv1D(filters = 32, strides = 2, kernel_size = 4, padding = 'same', activation = act_func)(conv2_concate)\n",
    "    conv33 = Conv1D(filters = 32, strides = 2, kernel_size = 8, padding = 'same', activation = act_func)(conv2_concate)\n",
    "    conv3_concate = concatenate([conv31, conv32, conv33], axis = 2)\n",
    "    conv3_concate = Dropout(0)(conv3_concate)\n",
    "    print(conv3_concate.shape)\n",
    "    gru1 = GRU(units = 32, return_sequences = True)(conv3_concate)\n",
    "    gru2 = GRU(units = 32, return_sequences = True)(gru1)\n",
    "    gru_concate_1 = concatenate([gru1, gru2], axis = 1)\n",
    "    gru3 = GRU(units = 32, return_sequences = True)(gru_concate_1)\n",
    "    gru_concate_2 = concatenate([gru1, gru2, gru3], axis = 1)\n",
    "    gru_4 = GRU(units = 32)(gru_concate_2)\n",
    "    output = Dense(2, activation = 'softmax')(gru_4)\n",
    "    chrononet_model = Model(inputs = input_eeg_raw, outputs = output)\n",
    "    chrononet_model.compile(loss='categorical_crossentropy', optimizer='adam', metrics=['accuracy'])\n",
    "    print(chrononet_model.summary)\n",
    "    return chrononet_model"
   ]
  },
  {
   "cell_type": "code",
   "execution_count": 10,
   "metadata": {},
   "outputs": [
    {
     "name": "stdout",
     "output_type": "stream",
     "text": [
      "finished preprocessing data lefting out:  0\n",
      "(1980, 12000, 16) (1980, 2)\n",
      "(?, 3000, 96)\n",
      "(?, 1500, 96)\n",
      "<bound method Container.summary of <keras.engine.training.Model object at 0x0000022AEF6A0E10>>\n",
      "Train on 1980 samples, validate on 180 samples\n",
      "Epoch 1/1\n",
      "1980/1980 [==============================] - 263s 133ms/step - loss: 0.6552 - acc: 0.6394 - val_loss: 0.6375 - val_acc: 0.6667\n"
     ]
    },
    {
     "ename": "NameError",
     "evalue": "name 'chrononet_model' is not defined",
     "output_type": "error",
     "traceback": [
      "\u001b[1;31m---------------------------------------------------------------------------\u001b[0m",
      "\u001b[1;31mNameError\u001b[0m                                 Traceback (most recent call last)",
      "\u001b[1;32m<ipython-input-10-c7756bdfae5a>\u001b[0m in \u001b[0;36m<module>\u001b[1;34m()\u001b[0m\n\u001b[0;32m     21\u001b[0m     \u001b[0mchrononet\u001b[0m \u001b[1;33m=\u001b[0m \u001b[0mstart_chrononet\u001b[0m\u001b[1;33m(\u001b[0m\u001b[1;33m)\u001b[0m\u001b[1;33m\u001b[0m\u001b[0m\n\u001b[0;32m     22\u001b[0m     \u001b[0mhistory\u001b[0m \u001b[1;33m=\u001b[0m \u001b[0mchrononet\u001b[0m\u001b[1;33m.\u001b[0m\u001b[0mfit\u001b[0m\u001b[1;33m(\u001b[0m\u001b[0mX_train\u001b[0m\u001b[1;33m,\u001b[0m \u001b[0mdummy_y_train\u001b[0m\u001b[1;33m,\u001b[0m \u001b[0mvalidation_data\u001b[0m\u001b[1;33m=\u001b[0m\u001b[1;33m(\u001b[0m\u001b[0mX_test\u001b[0m\u001b[1;33m,\u001b[0m \u001b[0mdummy_y_test\u001b[0m\u001b[1;33m)\u001b[0m\u001b[1;33m,\u001b[0m \u001b[0mepochs\u001b[0m\u001b[1;33m=\u001b[0m\u001b[1;36m1\u001b[0m\u001b[1;33m,\u001b[0m \u001b[0mbatch_size\u001b[0m\u001b[1;33m=\u001b[0m\u001b[1;36m128\u001b[0m\u001b[1;33m,\u001b[0m \u001b[0mverbose\u001b[0m \u001b[1;33m=\u001b[0m \u001b[1;36m1\u001b[0m\u001b[1;33m)\u001b[0m\u001b[1;33m\u001b[0m\u001b[0m\n\u001b[1;32m---> 23\u001b[1;33m     \u001b[0mchrononet_model\u001b[0m\u001b[1;33m.\u001b[0m\u001b[0msave\u001b[0m\u001b[1;33m(\u001b[0m\u001b[1;34m'chrononet_dog_3_60epoch_batch64_{0}.h5'\u001b[0m\u001b[1;33m.\u001b[0m\u001b[0mformat\u001b[0m\u001b[1;33m(\u001b[0m\u001b[0mleft\u001b[0m\u001b[1;33m)\u001b[0m\u001b[1;33m)\u001b[0m\u001b[1;33m\u001b[0m\u001b[0m\n\u001b[0m\u001b[0;32m     24\u001b[0m     \u001b[0mnp\u001b[0m\u001b[1;33m.\u001b[0m\u001b[0msave\u001b[0m\u001b[1;33m(\u001b[0m\u001b[1;34m'chrononet_dog_3_60epoch_batch64_{0}_train_acc'\u001b[0m\u001b[1;33m.\u001b[0m\u001b[0mformat\u001b[0m\u001b[1;33m(\u001b[0m\u001b[0mleft\u001b[0m\u001b[1;33m)\u001b[0m\u001b[1;33m,\u001b[0m\u001b[0mhistory\u001b[0m\u001b[1;33m.\u001b[0m\u001b[0mhistory\u001b[0m\u001b[1;33m[\u001b[0m\u001b[1;34m'acc'\u001b[0m\u001b[1;33m]\u001b[0m\u001b[1;33m)\u001b[0m\u001b[1;33m\u001b[0m\u001b[0m\n\u001b[0;32m     25\u001b[0m     \u001b[0mnp\u001b[0m\u001b[1;33m.\u001b[0m\u001b[0msave\u001b[0m\u001b[1;33m(\u001b[0m\u001b[1;34m'chrononet_dog_3_60epoch_batch64_{0}_val_acc'\u001b[0m\u001b[1;33m.\u001b[0m\u001b[0mformat\u001b[0m\u001b[1;33m(\u001b[0m\u001b[0mleft\u001b[0m\u001b[1;33m)\u001b[0m\u001b[1;33m,\u001b[0m\u001b[0mhistory\u001b[0m\u001b[1;33m.\u001b[0m\u001b[0mhistory\u001b[0m\u001b[1;33m[\u001b[0m\u001b[1;34m'val_acc'\u001b[0m\u001b[1;33m]\u001b[0m\u001b[1;33m)\u001b[0m\u001b[1;33m\u001b[0m\u001b[0m\n",
      "\u001b[1;31mNameError\u001b[0m: name 'chrononet_model' is not defined"
     ]
    }
   ],
   "source": [
    "for left in range(12):\n",
    "    data = AES_test_train_split_left1out('Dog_3', 12, 240, 11, left)\n",
    "    print('finished preprocessing data lefting out: ', left)\n",
    "    seed = 7\n",
    "    np.random.seed(seed)\n",
    "    X_train = data['X_train']\n",
    "    Y_train = data['Y_train']\n",
    "    X_test = data['X_test']\n",
    "    Y_test = data['Y_test']\n",
    "#     X_train, Y_train = shuffle(X_train, Y_train, random_state=0)\n",
    "#     encoder = LabelEncoder()\n",
    "#     encoder.fit(Y_train)\n",
    "#     encoded_Y_train = encoder.transform(Y_train)\n",
    "#     # convert integers to dummy variables (i.e. one hot encoded)\n",
    "#     dummy_y_train = np_utils.to_categorical(encoded_Y_train)\n",
    "#     print(X_train.shape, dummy_y_train.shape)\n",
    "#     X_test, Y_test = shuffle(X_test, Y_test, random_state=0)\n",
    "#     encoded_Y_test = encoder.transform(Y_test)\n",
    "#     # convert integers to dummy variables (i.e. one hot encoded)\n",
    "#     dummy_y_test = np_utils.to_categorical(encoded_Y_test)\n",
    "#     chrononet = start_chrononet()\n",
    "#     history = chrononet.fit(X_train, dummy_y_train, validation_data=(X_test, dummy_y_test), epochs=1, batch_size=128, verbose = 1)\n",
    "#     chrononet.save('chrononet_dog_3_60epoch_batch64_{0}.h5'.format(left))\n",
    "#     np.save('chrononet_dog_3_60epoch_batch64_{0}_train_acc'.format(left),history.history['acc'])\n",
    "#     np.save('chrononet_dog_3_60epoch_batch64_{0}_val_acc'.format(left),history.history['val_acc'])\n",
    "#     print(left)"
   ]
  },
  {
   "cell_type": "code",
   "execution_count": 4,
   "metadata": {},
   "outputs": [
    {
     "name": "stdout",
     "output_type": "stream",
     "text": [
      "[0, 1, 2, 3, 4, 5, 6, 7, 8, 9, 10] [  4 125  89  75  18  44 112 120  35 103 129 109 197  26 199  97  46   1\n",
      " 180  53 223 107] [11] [222  76]\n"
     ]
    }
   ],
   "source": [
    "a = AES_test_train_split_left1out('Dog_3', 12, 240, 11, 11)"
   ]
  },
  {
   "cell_type": "code",
   "execution_count": 5,
   "metadata": {},
   "outputs": [
    {
     "ename": "NameError",
     "evalue": "name 'test_interictal_mat_idx' is not defined",
     "output_type": "error",
     "traceback": [
      "\u001b[1;31m---------------------------------------------------------------------------\u001b[0m",
      "\u001b[1;31mNameError\u001b[0m                                 Traceback (most recent call last)",
      "\u001b[1;32m<ipython-input-5-2a13fce8de91>\u001b[0m in \u001b[0;36m<module>\u001b[1;34m()\u001b[0m\n\u001b[1;32m----> 1\u001b[1;33m \u001b[0mtest_interictal_mat_idx\u001b[0m\u001b[1;33m\u001b[0m\u001b[0m\n\u001b[0m",
      "\u001b[1;31mNameError\u001b[0m: name 'test_interictal_mat_idx' is not defined"
     ]
    }
   ],
   "source": [
    "test_interictal_mat_idx"
   ]
  },
  {
   "cell_type": "code",
   "execution_count": null,
   "metadata": {},
   "outputs": [],
   "source": []
  }
 ],
 "metadata": {
  "kernelspec": {
   "display_name": "Python 3",
   "language": "python",
   "name": "python3"
  },
  "language_info": {
   "codemirror_mode": {
    "name": "ipython",
    "version": 3
   },
   "file_extension": ".py",
   "mimetype": "text/x-python",
   "name": "python",
   "nbconvert_exporter": "python",
   "pygments_lexer": "ipython3",
   "version": "3.5.4"
  }
 },
 "nbformat": 4,
 "nbformat_minor": 2
}
