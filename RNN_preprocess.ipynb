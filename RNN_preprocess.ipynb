{
 "cells": [
  {
   "cell_type": "code",
   "execution_count": 28,
   "metadata": {},
   "outputs": [],
   "source": [
    "import scipy.io as sio\n",
    "from scipy.signal import resample\n",
    "import numpy as np\n",
    "def window_eeg(x, window_sec, stride_sec, data_len_sec, samp_freq):\n",
    "    nchannel = x.shape[0]\n",
    "    npoint_original = x.shape[1]\n",
    "    nwindow = int((data_len_sec - window_sec)/stride_sec + 1)\n",
    "    #print(nwindow)\n",
    "    window_pt = int(samp_freq*window_sec)\n",
    "    windowed_eeg = np.zeros((nwindow,window_pt,nchannel))\n",
    "    for i in range(nwindow):\n",
    "        x_windowed = x[:,int(np.ceil(i*stride_sec*samp_freq)):int(np.ceil((i*stride_sec+window_sec)*samp_freq))]\n",
    "        #print(x_windowed.shape)\n",
    "        x_windowed = np.transpose(x_windowed)\n",
    "        windowed_eeg[i,:,:] = x_windowed\n",
    "    return windowed_eeg\n",
    "def down_sample(x, samp_freq, target_freq):\n",
    "    nchannel = x.shape[0]\n",
    "    original_len = x.shape[1]\n",
    "    target_len = int(original_len*target_freq/samp_freq)\n",
    "    target_x = np.zeros((nchannel,target_len))\n",
    "    for i in range(nchannel):\n",
    "        target_x[i,:] = resample(x[i,:], target_len)\n",
    "    return target_x\n",
    "window = 60\n",
    "stride = window\n",
    "target_freq = 200\n",
    "data_len_sec = 600\n",
    "nwindow = int((data_len_sec - window)/stride + 1)"
   ]
  },
  {
   "cell_type": "code",
   "execution_count": 29,
   "metadata": {},
   "outputs": [],
   "source": [
    "from numpy.random import choice\n",
    "subject = 'Dog_3'\n",
    "npreictal = 12\n",
    "ninterictal = 240\n",
    "preictal_idx = [i for i in range(npreictal)]\n",
    "interictal_idx = [i for i in range(ninterictal)]\n",
    "n_preictal_train = 11\n",
    "n_interictal_train = int(n_preictal_train*2)\n",
    "train_preictal_idx = choice(preictal_idx, n_preictal_train, replace = False)\n",
    "train_preictal_mat_idx = []\n",
    "for i in train_preictal_idx:\n",
    "    for j in np.arange(i*6,i*6+6):\n",
    "        train_preictal_mat_idx.append(j)\n",
    "train_interictal_idx = choice(interictal_idx, n_interictal_train, replace = False)\n",
    "train_interictal_mat_idx = []\n",
    "for i in train_interictal_idx:\n",
    "    for j in np.arange(i*6,i*6+6):\n",
    "        train_interictal_mat_idx.append(j)\n",
    "test_preictal_idx = np.setdiff1d(preictal_idx, train_preictal_idx)\n",
    "test_interictal_idx = np.setdiff1d(interictal_idx, train_interictal_idx)\n",
    "test_interictal_idx = choice(test_interictal_idx, int((npreictal-n_preictal_train)*2), replace = False)\n",
    "test_preictal_mat_idx = []\n",
    "for i in test_preictal_idx:\n",
    "    for j in np.arange(i*6,i*6+6):\n",
    "        test_preictal_mat_idx.append(j)\n",
    "test_interictal_mat_idx = []\n",
    "for i in test_interictal_idx:\n",
    "    for j in np.arange(i*6,i*6+6):\n",
    "        test_interictal_mat_idx.append(j)        "
   ]
  },
  {
   "cell_type": "code",
   "execution_count": 32,
   "metadata": {},
   "outputs": [],
   "source": [
    "X_train = []\n",
    "Y_train = []\n",
    "for i in train_interictal_mat_idx:\n",
    "    filename = '{0}\\\\{1}_interictal_segment_{2}.mat'.format(subject, subject, str(i+1).zfill(4))\n",
    "    file = sio.loadmat(filename)\n",
    "    key = 'interictal_segment_{0}'.format(str(i+1)) \n",
    "    x = file[key]['data'][0,0]\n",
    "    data_len_sec = file[key]['data_length_sec'][0,0][0,0]\n",
    "    samp_freq = file[key]['sampling_frequency'][0,0][0,0]\n",
    "    x_down = down_sample(x, samp_freq, target_freq)\n",
    "    x_windowed = window_eeg(x_down, window, stride, data_len_sec, target_freq)\n",
    "    for j in range(x_windowed.shape[0]):\n",
    "        X_train.append(x_windowed[j,:,:])\n",
    "        Y_train.append(0)\n",
    "for i in train_preictal_mat_idx:\n",
    "    filename = '{0}\\\\{1}_preictal_segment_{2}.mat'.format(subject, subject, str(i+1).zfill(4))\n",
    "    file = sio.loadmat(filename)\n",
    "    key = 'preictal_segment_{0}'.format(str(i+1)) \n",
    "    x = file[key]['data'][0,0]\n",
    "    data_len_sec = file[key]['data_length_sec'][0,0][0,0]\n",
    "    samp_freq = file[key]['sampling_frequency'][0,0][0,0]\n",
    "    x_down = down_sample(x, samp_freq, target_freq)\n",
    "    x_windowed = window_eeg(x_down, window, stride, data_len_sec, target_freq)\n",
    "    for j in range(x_windowed.shape[0]):\n",
    "        X_train.append(x_windowed[j,:,:])\n",
    "        Y_train.append(1)\n",
    "X_test = []\n",
    "Y_test = []\n",
    "for i in test_interictal_mat_idx:\n",
    "    filename = '{0}\\\\{1}_interictal_segment_{2}.mat'.format(subject, subject, str(i+1).zfill(4))\n",
    "    file = sio.loadmat(filename)\n",
    "    key = 'interictal_segment_{0}'.format(str(i+1)) \n",
    "    x = file[key]['data'][0,0]\n",
    "    data_len_sec = file[key]['data_length_sec'][0,0][0,0]\n",
    "    samp_freq = file[key]['sampling_frequency'][0,0][0,0]\n",
    "    x_down = down_sample(x, samp_freq, target_freq)\n",
    "    x_windowed = window_eeg(x_down, window, stride, data_len_sec, target_freq)\n",
    "    for j in range(x_windowed.shape[0]):\n",
    "        X_test.append(x_windowed[j,:,:])\n",
    "        Y_test.append(0)\n",
    "for i in test_preictal_mat_idx:\n",
    "    filename = '{0}\\\\{1}_preictal_segment_{2}.mat'.format(subject, subject, str(i+1).zfill(4))\n",
    "    file = sio.loadmat(filename)\n",
    "    key = 'preictal_segment_{0}'.format(str(i+1)) \n",
    "    x = file[key]['data'][0,0]\n",
    "    data_len_sec = file[key]['data_length_sec'][0,0][0,0]\n",
    "    samp_freq = file[key]['sampling_frequency'][0,0][0,0]\n",
    "    x_down = down_sample(x, samp_freq, target_freq)\n",
    "    x_windowed = window_eeg(x_down, window, stride, data_len_sec, target_freq)\n",
    "    for j in range(x_windowed.shape[0]):\n",
    "        X_test.append(x_windowed[j,:,:])\n",
    "        Y_test.append(1)\n",
    "\n"
   ]
  },
  {
   "cell_type": "code",
   "execution_count": 31,
   "metadata": {},
   "outputs": [
    {
     "data": {
      "text/plain": [
       "[42, 43, 44, 45, 46, 47]"
      ]
     },
     "execution_count": 31,
     "metadata": {},
     "output_type": "execute_result"
    }
   ],
   "source": [
    "test_preictal_mat_idx"
   ]
  },
  {
   "cell_type": "code",
   "execution_count": 36,
   "metadata": {},
   "outputs": [],
   "source": [
    "X_train = np.array(X_train)\n",
    "X_test = np.array(X_test)"
   ]
  },
  {
   "cell_type": "code",
   "execution_count": 37,
   "metadata": {},
   "outputs": [],
   "source": [
    "import pickle\n",
    "processed_data = {'X_train':X_train, 'Y_train':Y_train, 'X_test': X_test, 'Y_test': Y_test}\n",
    "pickle.dump(processed_data, open( \"Dog_3_60s_60s_11_1.p\", \"wb\"), protocol=4)"
   ]
  },
  {
   "cell_type": "code",
   "execution_count": 38,
   "metadata": {},
   "outputs": [
    {
     "data": {
      "text/plain": [
       "(1980, 12000, 16)"
      ]
     },
     "execution_count": 38,
     "metadata": {},
     "output_type": "execute_result"
    }
   ],
   "source": [
    "X_train.shape"
   ]
  },
  {
   "cell_type": "code",
   "execution_count": null,
   "metadata": {},
   "outputs": [],
   "source": []
  }
 ],
 "metadata": {
  "kernelspec": {
   "display_name": "Python 3",
   "language": "python",
   "name": "python3"
  },
  "language_info": {
   "codemirror_mode": {
    "name": "ipython",
    "version": 3
   },
   "file_extension": ".py",
   "mimetype": "text/x-python",
   "name": "python",
   "nbconvert_exporter": "python",
   "pygments_lexer": "ipython3",
   "version": "3.5.4"
  }
 },
 "nbformat": 4,
 "nbformat_minor": 2
}
