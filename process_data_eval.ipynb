{
 "cells": [
  {
   "cell_type": "code",
   "execution_count": 1,
   "metadata": {},
   "outputs": [
    {
     "name": "stdout",
     "output_type": "stream",
     "text": [
      "[['1' '1' '258' ..., '256' '40%' '40%']\n",
      " ['2' '2' '' ..., '186' '29%' '68%']\n",
      " ['3' '3' '258' ..., '6' '1%' '69%']\n",
      " ..., \n",
      " ['1419' '1030' '6546' ..., '' '' '']\n",
      " ['1420' '1031' '6546' ..., '' '' '']\n",
      " ['1421' '1032' '' ..., '' '' '']]\n",
      "(1421, 30)\n"
     ]
    }
   ],
   "source": [
    "import csv\n",
    "import numpy as np\n",
    "# TUH_index = np.chararray()\n",
    "with open('_SEIZURES_v28r_eval.csv') as csvfile:\n",
    "    readCSV = csv.reader(csvfile, delimiter=',')\n",
    "    x = list(readCSV)\n",
    "    x = np.array(x).astype('str')\n",
    "    x = x[2:1423,:]\n",
    "    print(x)\n",
    "    print(x.shape)"
   ]
  },
  {
   "cell_type": "code",
   "execution_count": 2,
   "metadata": {},
   "outputs": [
    {
     "name": "stdout",
     "output_type": "stream",
     "text": [
      "number of seizures:  646\n",
      "number of lead seizures:  217\n",
      "number of lead seizures with preictal period > 60s:  176\n",
      "total preictal period > 60s:  849.5573699999999\n",
      "total duration of seizures in min:  929.415573333333\n",
      "minimum duration of seizures:  1.3999999999999773\n",
      "maximum duration of seizures:  2464.0\n"
     ]
    }
   ],
   "source": [
    "preictal_advance = 10\n",
    "seizure_intervals = []\n",
    "lead_seizure_intervals = []\n",
    "lead_seizure_file_idx = []\n",
    "prev_file_idx = 0\n",
    "for i in range(x.shape[0]):\n",
    "    cur_idx = x[i,0]\n",
    "    cur_file_idx = x[i,1]\n",
    "    if x[i,12] != '':\n",
    "        seizure_intervals.append((x[i,12],x[i,13]))    \n",
    "#         if (float(x[i,13]) - float(x[i,12])) > 2000:\n",
    "#             print((i, x[i,12],x[i,13]))\n",
    "    if cur_file_idx != prev_file_idx:\n",
    "        if x[i,12] != '':\n",
    "            if float(x[i,12]) >= preictal_advance+1:\n",
    "                lead_seizure_intervals.append((x[i,12],x[i,13]))\n",
    "                lead_seizure_file_idx.append(i)\n",
    "    prev_idx = cur_idx\n",
    "    prev_file_idx = cur_file_idx\n",
    "print('number of seizures: ',len(seizure_intervals))\n",
    "print('number of lead seizures: ',len(lead_seizure_intervals))\n",
    "print('number of lead seizures with preictal period > 60s: ',len([float(i[0]) for i in lead_seizure_intervals if float(i[0]) > 60]))\n",
    "print('total preictal period > 60s: ',sum([float(i[0]) for i in lead_seizure_intervals if float(i[0]) > 60])/60)\n",
    "seizure_durations = [(float(i[1]) - float(i[0])) for i in seizure_intervals]\n",
    "print('total duration of seizures in min: ', sum(seizure_durations)/60)\n",
    "print('minimum duration of seizures: ', min(seizure_durations))\n",
    "print('maximum duration of seizures: ', max(seizure_durations))\n",
    "seizure_start_times = [float(i[0]) for i in seizure_intervals]"
   ]
  },
  {
   "cell_type": "code",
   "execution_count": 3,
   "metadata": {},
   "outputs": [
    {
     "name": "stdout",
     "output_type": "stream",
     "text": [
      "217\n"
     ]
    }
   ],
   "source": [
    "preictal_file_name = []\n",
    "preictal_start_times = []\n",
    "for i in range(len(lead_seizure_file_idx)):\n",
    "    idx = lead_seizure_file_idx[i]\n",
    "    preictal_file_name.append(x[idx, 11])\n",
    "    preictal_start_times.append(float(x[idx, 12]))\n",
    "print(len(preictal_file_name))\n",
    "nvalid_preictal_files = len(preictal_file_name)"
   ]
  },
  {
   "cell_type": "code",
   "execution_count": 4,
   "metadata": {},
   "outputs": [
    {
     "name": "stdout",
     "output_type": "stream",
     "text": [
      "['CZ', 'C4', 'T6', 'F4', 'P4', 'C3', 'P3', 'T5', 'FP1', 'T3', 'FP2', 'T4', 'F7', 'PZ', 'O2', 'FZ', 'O1', 'F8', 'F3'] 19\n",
      "True\n"
     ]
    }
   ],
   "source": [
    "import pyedflib as edf\n",
    "import numpy as np\n",
    "def find_EEG_channels(x):\n",
    "    channels = []\n",
    "    standard = ['FP1','FP2','F7','F3','FZ','F4','F8','A1','T3','C3','CZ','C4','T4','A2','T5','P3','PZ','P4','T6','O1','O2']\n",
    "    #standard = ['FP1','FP2','F7','F3','FZ','F4','F8','A1','T3','C3','CZ','C4','T4','A2','T5','P3','PZ','P4','T6','O1','O2','EKG','SP1','SP2','31','32','LUC','RLC','RESP1','RESP2']\n",
    "    for i in standard:\n",
    "        for j in x:\n",
    "            if 'EEG' in j:\n",
    "                if i == j.partition('EEG ')[-1].rpartition('-')[0]:\n",
    "                    channels.append(i)\n",
    "    return channels\n",
    "for i in range(len(preictal_file_name)):\n",
    "    filename = preictal_file_name[i]\n",
    "    f = edf.EdfReader(filename.replace('tse' , 'edf'))\n",
    "    cur_channels = find_EEG_channels(f.getSignalLabels())\n",
    "    if i == 0:\n",
    "        prev_channels = cur_channels\n",
    "    common_channels = list(set(prev_channels) & set(cur_channels))\n",
    "    #print(i,len(common_channels))\n",
    "    prev_channels = common_channels\n",
    "print(common_channels, len(common_channels))\n",
    "print(set(common_channels) == set(['FP1','FP2','F7','F3','FZ','F4','F8','T3','C3','CZ','C4','T4','T5','P3','PZ','P4','T6','O1','O2']))\n",
    "common_channels = ['FP1','FP2','F7','F3','FZ','F4','F8','T3','C3','CZ','C4','T4','T5','P3','PZ','P4','T6','O1','O2']\n"
   ]
  },
  {
   "cell_type": "code",
   "execution_count": 5,
   "metadata": {},
   "outputs": [],
   "source": [
    "nvalid_channels = len(common_channels)\n",
    "channel_idx_per_preictal = np.zeros((nvalid_preictal_files, nvalid_channels))\n",
    "for i in range(len(preictal_file_name)):\n",
    "    filename = preictal_file_name[i]\n",
    "    f = edf.EdfReader(filename.replace('tse' , 'edf'))\n",
    "    valid_channels = []\n",
    "    valid_channel_names = []\n",
    "    for channel_idx, channel in enumerate(common_channels):\n",
    "        for sample_channel_idx in range(len(f.getSignalLabels())):\n",
    "            sample_channel_name = f.getLabel(sample_channel_idx)\n",
    "#             if 'EEG' in sample_channel_name:\n",
    "#                 print(sample_channel_name.partition('EEG ')[-1].rpartition('-')[0])\n",
    "            if 'EEG' in sample_channel_name:\n",
    "                if sample_channel_name.partition('EEG ')[-1].rpartition('-')[0] == channel:\n",
    "                    channel_idx_per_preictal[i,channel_idx] = sample_channel_idx\n",
    "                    valid_channels.append(sample_channel_idx)\n",
    "                    valid_channel_names.append(sample_channel_name)"
   ]
  },
  {
   "cell_type": "code",
   "execution_count": 6,
   "metadata": {},
   "outputs": [],
   "source": [
    "from scipy.signal import resample\n",
    "target_f = 200\n",
    "def down_sample(x, samp_freq, target_freq):\n",
    "    x = np.array(x)\n",
    "    original_len = x.shape[0]\n",
    "    target_len = int(original_len*target_freq/samp_freq)\n",
    "    target_x= resample(x, target_len)\n",
    "    return target_x\n",
    "for i in range(len(preictal_file_name)):\n",
    "    filename = preictal_file_name[i]\n",
    "    f = edf.EdfReader(filename.replace('tse' , 'edf'))\n",
    "    samp_freq = f.getSampleFrequencies()[0]\n",
    "    nsecs = np.floor(preictal_start_times[i]-preictal_advance)\n",
    "    #print(nsecs,samp_freq)\n",
    "    data = np.zeros((nvalid_channels, int(nsecs*target_f)))\n",
    "    processed_file_name = 'Processed_data_10s//eval//TUH_preictal_eval_{0}'.format(str(i+1).zfill(3))\n",
    "    for j in range(nvalid_channels):\n",
    "        #print(i,j)\n",
    "        c = channel_idx_per_preictal[i,j]\n",
    "        #print(f.readSignal(int(c), start = 0))\n",
    "        try:\n",
    "            data[j,:] = down_sample(f.readSignal(int(c))[0:int(nsecs*f.getSampleFrequency(int(c)))], f.getSampleFrequency(int(c)), target_f)\n",
    "        except:\n",
    "            print(i,j)\n",
    "    np.save(processed_file_name, data)    "
   ]
  },
  {
   "cell_type": "code",
   "execution_count": 7,
   "metadata": {},
   "outputs": [
    {
     "name": "stdout",
     "output_type": "stream",
     "text": [
      "number of interictal sessions:  775\n",
      "775\n"
     ]
    }
   ],
   "source": [
    "inter_seizure_file_idx = []\n",
    "for i in range(x.shape[0]):\n",
    "    cur_idx = x[i,0]\n",
    "    cur_file_idx = x[i,1]\n",
    "    if x[i,12] == '':\n",
    "        inter_seizure_file_idx.append(i)    \n",
    "print('number of interictal sessions: ',len(inter_seizure_file_idx))\n",
    "interictal_file_name = []\n",
    "for i in range(len(inter_seizure_file_idx)):\n",
    "    idx = inter_seizure_file_idx[i]\n",
    "    interictal_file_name.append(x[idx, 11])\n",
    "print(len(interictal_file_name))\n",
    "ninterictal_files = len(interictal_file_name)"
   ]
  },
  {
   "cell_type": "code",
   "execution_count": 8,
   "metadata": {},
   "outputs": [
    {
     "name": "stdout",
     "output_type": "stream",
     "text": [
      "['O1', 'T4', 'F7', 'T5', 'T3', 'P3', 'P4', 'T6', 'O2', 'CZ', 'F3', 'FP2', 'F8', 'C4', 'F4', 'FP1', 'PZ', 'C3', 'FZ'] 19\n"
     ]
    }
   ],
   "source": [
    "for i in range(ninterictal_files):\n",
    "    filename = interictal_file_name[i]\n",
    "    f = edf.EdfReader(filename.replace('tse' , 'edf'))\n",
    "    cur_channels = find_EEG_channels(f.getSignalLabels())\n",
    "    if i == 0:\n",
    "        prev_channels = cur_channels\n",
    "    common_channels_interictal = list(set(prev_channels) & set(cur_channels))\n",
    "    #print(i,len(common_channels))\n",
    "    prev_channels = common_channels_interictal\n",
    "print(common_channels_interictal, len(common_channels_interictal))"
   ]
  },
  {
   "cell_type": "code",
   "execution_count": 8,
   "metadata": {},
   "outputs": [],
   "source": [
    "channel_idx_per_interictal = np.zeros((ninterictal_files, nvalid_channels))\n",
    "for i in range(ninterictal_files):\n",
    "    filename = interictal_file_name[i]\n",
    "    f = edf.EdfReader(filename.replace('tse' , 'edf'))\n",
    "    for channel_idx, channel in enumerate(common_channels):\n",
    "        for sample_channel_idx in range(len(f.getSignalLabels())):\n",
    "            sample_channel_name = f.getLabel(sample_channel_idx)\n",
    "#             if 'EEG' in sample_channel_name:\n",
    "#                 print(sample_channel_name.partition('EEG ')[-1].rpartition('-')[0])\n",
    "            if 'EEG' in sample_channel_name:\n",
    "                if sample_channel_name.partition('EEG ')[-1].rpartition('-')[0] == channel:\n",
    "                    channel_idx_per_interictal[i,channel_idx] = sample_channel_idx\n",
    "\n",
    "for i in range(ninterictal_files):\n",
    "    filename = interictal_file_name[i]\n",
    "    f = edf.EdfReader(filename.replace('tse' , 'edf'))\n",
    "    samp_freq = f.getSampleFrequencies()[0]\n",
    "    nsecs = np.floor(f.getFileDuration())\n",
    "    data = np.zeros((nvalid_channels, int(nsecs*target_f)))\n",
    "    processed_file_name = 'Processed_data_10s//eval//TUH_interictal_eval_{0}'.format(str(i+1).zfill(3))\n",
    "    for j in range(nvalid_channels):\n",
    "        c = channel_idx_per_interictal[i,j]\n",
    "        #print(f.readSignal(int(c), start = 0))\n",
    "        data[j,:] = down_sample(f.readSignal(int(c))[0:int(nsecs*f.getSampleFrequency(int(c)))], f.getSampleFrequency(int(c)), target_f)\n",
    "    np.save(processed_file_name, data)    "
   ]
  },
  {
   "cell_type": "code",
   "execution_count": null,
   "metadata": {},
   "outputs": [],
   "source": []
  }
 ],
 "metadata": {
  "kernelspec": {
   "display_name": "Python 3",
   "language": "python",
   "name": "python3"
  },
  "language_info": {
   "codemirror_mode": {
    "name": "ipython",
    "version": 3
   },
   "file_extension": ".py",
   "mimetype": "text/x-python",
   "name": "python",
   "nbconvert_exporter": "python",
   "pygments_lexer": "ipython3",
   "version": "3.5.4"
  }
 },
 "nbformat": 4,
 "nbformat_minor": 2
}
